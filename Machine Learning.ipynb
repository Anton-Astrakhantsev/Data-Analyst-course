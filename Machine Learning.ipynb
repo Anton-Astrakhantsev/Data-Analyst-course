{
 "cells": [
  {
   "cell_type": "markdown",
   "metadata": {},
   "source": [
    "Загружаем все необходимые библиотеки"
   ]
  },
  {
   "cell_type": "code",
   "execution_count": 1,
   "metadata": {},
   "outputs": [],
   "source": [
    "import numpy as np\n",
    "import pandas as pd\n",
    "\n",
    "from sklearn.model_selection import train_test_split\n",
    "from sklearn.preprocessing import StandardScaler\n",
    "\n",
    "from sklearn.linear_model import LinearRegression\n",
    "from sklearn.svm import SVR\n",
    "from sklearn.tree import DecisionTreeRegressor\n",
    "\n",
    "from sklearn.metrics import mean_squared_error, r2_score, mean_absolute_error"
   ]
  },
  {
   "cell_type": "markdown",
   "metadata": {},
   "source": [
    "Загружаем датасет homework"
   ]
  },
  {
   "cell_type": "code",
   "execution_count": 2,
   "metadata": {},
   "outputs": [],
   "source": [
    "df = pd.read_csv('homework.csv')"
   ]
  },
  {
   "cell_type": "markdown",
   "metadata": {},
   "source": [
    "Оценим датасет"
   ]
  },
  {
   "cell_type": "code",
   "execution_count": 3,
   "metadata": {},
   "outputs": [
    {
     "data": {
      "text/html": [
       "<div>\n",
       "<style scoped>\n",
       "    .dataframe tbody tr th:only-of-type {\n",
       "        vertical-align: middle;\n",
       "    }\n",
       "\n",
       "    .dataframe tbody tr th {\n",
       "        vertical-align: top;\n",
       "    }\n",
       "\n",
       "    .dataframe thead th {\n",
       "        text-align: right;\n",
       "    }\n",
       "</style>\n",
       "<table border=\"1\" class=\"dataframe\">\n",
       "  <thead>\n",
       "    <tr style=\"text-align: right;\">\n",
       "      <th></th>\n",
       "      <th>ID</th>\n",
       "      <th>crim</th>\n",
       "      <th>zn</th>\n",
       "      <th>indus</th>\n",
       "      <th>chas</th>\n",
       "      <th>nox</th>\n",
       "      <th>rm</th>\n",
       "      <th>age</th>\n",
       "      <th>dis</th>\n",
       "      <th>rad</th>\n",
       "      <th>tax</th>\n",
       "      <th>ptratio</th>\n",
       "      <th>black</th>\n",
       "      <th>lstat</th>\n",
       "      <th>medv</th>\n",
       "    </tr>\n",
       "  </thead>\n",
       "  <tbody>\n",
       "    <tr>\n",
       "      <th>0</th>\n",
       "      <td>1</td>\n",
       "      <td>0.00632</td>\n",
       "      <td>18.0</td>\n",
       "      <td>2.31</td>\n",
       "      <td>0</td>\n",
       "      <td>0.538</td>\n",
       "      <td>6.575</td>\n",
       "      <td>65.2</td>\n",
       "      <td>4.0900</td>\n",
       "      <td>1</td>\n",
       "      <td>296</td>\n",
       "      <td>15.3</td>\n",
       "      <td>396.90</td>\n",
       "      <td>4.98</td>\n",
       "      <td>24.0</td>\n",
       "    </tr>\n",
       "    <tr>\n",
       "      <th>1</th>\n",
       "      <td>2</td>\n",
       "      <td>0.02731</td>\n",
       "      <td>0.0</td>\n",
       "      <td>7.07</td>\n",
       "      <td>0</td>\n",
       "      <td>0.469</td>\n",
       "      <td>6.421</td>\n",
       "      <td>78.9</td>\n",
       "      <td>4.9671</td>\n",
       "      <td>2</td>\n",
       "      <td>242</td>\n",
       "      <td>17.8</td>\n",
       "      <td>396.90</td>\n",
       "      <td>9.14</td>\n",
       "      <td>21.6</td>\n",
       "    </tr>\n",
       "    <tr>\n",
       "      <th>2</th>\n",
       "      <td>4</td>\n",
       "      <td>0.03237</td>\n",
       "      <td>0.0</td>\n",
       "      <td>2.18</td>\n",
       "      <td>0</td>\n",
       "      <td>0.458</td>\n",
       "      <td>6.998</td>\n",
       "      <td>45.8</td>\n",
       "      <td>6.0622</td>\n",
       "      <td>3</td>\n",
       "      <td>222</td>\n",
       "      <td>18.7</td>\n",
       "      <td>394.63</td>\n",
       "      <td>2.94</td>\n",
       "      <td>33.4</td>\n",
       "    </tr>\n",
       "    <tr>\n",
       "      <th>3</th>\n",
       "      <td>5</td>\n",
       "      <td>0.06905</td>\n",
       "      <td>0.0</td>\n",
       "      <td>2.18</td>\n",
       "      <td>0</td>\n",
       "      <td>0.458</td>\n",
       "      <td>7.147</td>\n",
       "      <td>54.2</td>\n",
       "      <td>6.0622</td>\n",
       "      <td>3</td>\n",
       "      <td>222</td>\n",
       "      <td>18.7</td>\n",
       "      <td>396.90</td>\n",
       "      <td>5.33</td>\n",
       "      <td>36.2</td>\n",
       "    </tr>\n",
       "    <tr>\n",
       "      <th>4</th>\n",
       "      <td>7</td>\n",
       "      <td>0.08829</td>\n",
       "      <td>12.5</td>\n",
       "      <td>7.87</td>\n",
       "      <td>0</td>\n",
       "      <td>0.524</td>\n",
       "      <td>6.012</td>\n",
       "      <td>66.6</td>\n",
       "      <td>5.5605</td>\n",
       "      <td>5</td>\n",
       "      <td>311</td>\n",
       "      <td>15.2</td>\n",
       "      <td>395.60</td>\n",
       "      <td>12.43</td>\n",
       "      <td>22.9</td>\n",
       "    </tr>\n",
       "  </tbody>\n",
       "</table>\n",
       "</div>"
      ],
      "text/plain": [
       "   ID     crim    zn  indus  chas    nox     rm   age     dis  rad  tax  \\\n",
       "0   1  0.00632  18.0   2.31     0  0.538  6.575  65.2  4.0900    1  296   \n",
       "1   2  0.02731   0.0   7.07     0  0.469  6.421  78.9  4.9671    2  242   \n",
       "2   4  0.03237   0.0   2.18     0  0.458  6.998  45.8  6.0622    3  222   \n",
       "3   5  0.06905   0.0   2.18     0  0.458  7.147  54.2  6.0622    3  222   \n",
       "4   7  0.08829  12.5   7.87     0  0.524  6.012  66.6  5.5605    5  311   \n",
       "\n",
       "   ptratio   black  lstat  medv  \n",
       "0     15.3  396.90   4.98  24.0  \n",
       "1     17.8  396.90   9.14  21.6  \n",
       "2     18.7  394.63   2.94  33.4  \n",
       "3     18.7  396.90   5.33  36.2  \n",
       "4     15.2  395.60  12.43  22.9  "
      ]
     },
     "execution_count": 3,
     "metadata": {},
     "output_type": "execute_result"
    }
   ],
   "source": [
    "df.head()"
   ]
  },
  {
   "cell_type": "code",
   "execution_count": 4,
   "metadata": {},
   "outputs": [
    {
     "name": "stdout",
     "output_type": "stream",
     "text": [
      "<class 'pandas.core.frame.DataFrame'>\n",
      "RangeIndex: 333 entries, 0 to 332\n",
      "Data columns (total 15 columns):\n",
      "ID         333 non-null int64\n",
      "crim       333 non-null float64\n",
      "zn         333 non-null float64\n",
      "indus      333 non-null float64\n",
      "chas       333 non-null int64\n",
      "nox        333 non-null float64\n",
      "rm         333 non-null float64\n",
      "age        333 non-null float64\n",
      "dis        333 non-null float64\n",
      "rad        333 non-null int64\n",
      "tax        333 non-null int64\n",
      "ptratio    333 non-null float64\n",
      "black      333 non-null float64\n",
      "lstat      333 non-null float64\n",
      "medv       333 non-null float64\n",
      "dtypes: float64(11), int64(4)\n",
      "memory usage: 39.1 KB\n"
     ]
    }
   ],
   "source": [
    "df.info()"
   ]
  },
  {
   "cell_type": "markdown",
   "metadata": {},
   "source": [
    "Мы видим, что в датасете нет пустых значений, а все типы данных состоят из float и int  \n",
    "Датасет можно считать приемлемым для работы"
   ]
  },
  {
   "cell_type": "markdown",
   "metadata": {},
   "source": [
    "Выделим независимую и переменную части нашего датасеты"
   ]
  },
  {
   "cell_type": "code",
   "execution_count": 5,
   "metadata": {},
   "outputs": [],
   "source": [
    "df_x = df[['crim', 'zn', 'indus', 'chas', 'nox', 'rm', 'age', 'dis', 'rad', 'tax', 'ptratio', 'black', 'lstat']]\n",
    "df_y = df['medv']"
   ]
  },
  {
   "cell_type": "markdown",
   "metadata": {},
   "source": [
    "Приводим данные к одному масштабу"
   ]
  },
  {
   "cell_type": "code",
   "execution_count": 6,
   "metadata": {},
   "outputs": [
    {
     "data": {
      "text/html": [
       "<div>\n",
       "<style scoped>\n",
       "    .dataframe tbody tr th:only-of-type {\n",
       "        vertical-align: middle;\n",
       "    }\n",
       "\n",
       "    .dataframe tbody tr th {\n",
       "        vertical-align: top;\n",
       "    }\n",
       "\n",
       "    .dataframe thead th {\n",
       "        text-align: right;\n",
       "    }\n",
       "</style>\n",
       "<table border=\"1\" class=\"dataframe\">\n",
       "  <thead>\n",
       "    <tr style=\"text-align: right;\">\n",
       "      <th></th>\n",
       "      <th>crim</th>\n",
       "      <th>zn</th>\n",
       "      <th>indus</th>\n",
       "      <th>chas</th>\n",
       "      <th>nox</th>\n",
       "      <th>rm</th>\n",
       "      <th>age</th>\n",
       "      <th>dis</th>\n",
       "      <th>rad</th>\n",
       "      <th>tax</th>\n",
       "      <th>ptratio</th>\n",
       "      <th>black</th>\n",
       "      <th>lstat</th>\n",
       "    </tr>\n",
       "  </thead>\n",
       "  <tbody>\n",
       "    <tr>\n",
       "      <th>0</th>\n",
       "      <td>-0.456875</td>\n",
       "      <td>0.322906</td>\n",
       "      <td>-1.285631</td>\n",
       "      <td>-0.25278</td>\n",
       "      <td>-0.166787</td>\n",
       "      <td>0.440154</td>\n",
       "      <td>-0.107736</td>\n",
       "      <td>0.192133</td>\n",
       "      <td>-0.98907</td>\n",
       "      <td>-0.664062</td>\n",
       "      <td>-1.465171</td>\n",
       "      <td>0.432990</td>\n",
       "      <td>-1.067772</td>\n",
       "    </tr>\n",
       "    <tr>\n",
       "      <th>1</th>\n",
       "      <td>-0.454016</td>\n",
       "      <td>-0.472123</td>\n",
       "      <td>-0.604425</td>\n",
       "      <td>-0.25278</td>\n",
       "      <td>-0.767928</td>\n",
       "      <td>0.221060</td>\n",
       "      <td>0.379963</td>\n",
       "      <td>0.635528</td>\n",
       "      <td>-0.87451</td>\n",
       "      <td>-0.980620</td>\n",
       "      <td>-0.301616</td>\n",
       "      <td>0.432990</td>\n",
       "      <td>-0.478299</td>\n",
       "    </tr>\n",
       "    <tr>\n",
       "      <th>2</th>\n",
       "      <td>-0.453327</td>\n",
       "      <td>-0.472123</td>\n",
       "      <td>-1.304235</td>\n",
       "      <td>-0.25278</td>\n",
       "      <td>-0.863762</td>\n",
       "      <td>1.041952</td>\n",
       "      <td>-0.798347</td>\n",
       "      <td>1.189127</td>\n",
       "      <td>-0.75995</td>\n",
       "      <td>-1.097863</td>\n",
       "      <td>0.117264</td>\n",
       "      <td>0.406733</td>\n",
       "      <td>-1.356840</td>\n",
       "    </tr>\n",
       "    <tr>\n",
       "      <th>3</th>\n",
       "      <td>-0.448330</td>\n",
       "      <td>-0.472123</td>\n",
       "      <td>-1.304235</td>\n",
       "      <td>-0.25278</td>\n",
       "      <td>-0.863762</td>\n",
       "      <td>1.253933</td>\n",
       "      <td>-0.499320</td>\n",
       "      <td>1.189127</td>\n",
       "      <td>-0.75995</td>\n",
       "      <td>-1.097863</td>\n",
       "      <td>0.117264</td>\n",
       "      <td>0.432990</td>\n",
       "      <td>-1.018177</td>\n",
       "    </tr>\n",
       "    <tr>\n",
       "      <th>4</th>\n",
       "      <td>-0.445709</td>\n",
       "      <td>0.079980</td>\n",
       "      <td>-0.489936</td>\n",
       "      <td>-0.25278</td>\n",
       "      <td>-0.288758</td>\n",
       "      <td>-0.360821</td>\n",
       "      <td>-0.057898</td>\n",
       "      <td>0.935505</td>\n",
       "      <td>-0.53083</td>\n",
       "      <td>-0.576130</td>\n",
       "      <td>-1.511713</td>\n",
       "      <td>0.417953</td>\n",
       "      <td>-0.012106</td>\n",
       "    </tr>\n",
       "  </tbody>\n",
       "</table>\n",
       "</div>"
      ],
      "text/plain": [
       "       crim        zn     indus     chas       nox        rm       age  \\\n",
       "0 -0.456875  0.322906 -1.285631 -0.25278 -0.166787  0.440154 -0.107736   \n",
       "1 -0.454016 -0.472123 -0.604425 -0.25278 -0.767928  0.221060  0.379963   \n",
       "2 -0.453327 -0.472123 -1.304235 -0.25278 -0.863762  1.041952 -0.798347   \n",
       "3 -0.448330 -0.472123 -1.304235 -0.25278 -0.863762  1.253933 -0.499320   \n",
       "4 -0.445709  0.079980 -0.489936 -0.25278 -0.288758 -0.360821 -0.057898   \n",
       "\n",
       "        dis      rad       tax   ptratio     black     lstat  \n",
       "0  0.192133 -0.98907 -0.664062 -1.465171  0.432990 -1.067772  \n",
       "1  0.635528 -0.87451 -0.980620 -0.301616  0.432990 -0.478299  \n",
       "2  1.189127 -0.75995 -1.097863  0.117264  0.406733 -1.356840  \n",
       "3  1.189127 -0.75995 -1.097863  0.117264  0.432990 -1.018177  \n",
       "4  0.935505 -0.53083 -0.576130 -1.511713  0.417953 -0.012106  "
      ]
     },
     "execution_count": 6,
     "metadata": {},
     "output_type": "execute_result"
    }
   ],
   "source": [
    "sc = StandardScaler()\n",
    "df_x_train = pd.DataFrame( sc.fit_transform(df_x), columns=df_x.columns )\n",
    "\n",
    "df_x_train.head()"
   ]
  },
  {
   "cell_type": "markdown",
   "metadata": {},
   "source": [
    "Разделяем датасет на обучающую и проверочную части"
   ]
  },
  {
   "cell_type": "code",
   "execution_count": 7,
   "metadata": {
    "scrolled": true
   },
   "outputs": [
    {
     "data": {
      "text/html": [
       "<div>\n",
       "<style scoped>\n",
       "    .dataframe tbody tr th:only-of-type {\n",
       "        vertical-align: middle;\n",
       "    }\n",
       "\n",
       "    .dataframe tbody tr th {\n",
       "        vertical-align: top;\n",
       "    }\n",
       "\n",
       "    .dataframe thead th {\n",
       "        text-align: right;\n",
       "    }\n",
       "</style>\n",
       "<table border=\"1\" class=\"dataframe\">\n",
       "  <thead>\n",
       "    <tr style=\"text-align: right;\">\n",
       "      <th></th>\n",
       "      <th>crim</th>\n",
       "      <th>zn</th>\n",
       "      <th>indus</th>\n",
       "      <th>chas</th>\n",
       "      <th>nox</th>\n",
       "      <th>rm</th>\n",
       "      <th>age</th>\n",
       "      <th>dis</th>\n",
       "      <th>rad</th>\n",
       "      <th>tax</th>\n",
       "      <th>ptratio</th>\n",
       "      <th>black</th>\n",
       "      <th>lstat</th>\n",
       "    </tr>\n",
       "  </thead>\n",
       "  <tbody>\n",
       "    <tr>\n",
       "      <th>201</th>\n",
       "      <td>-0.444114</td>\n",
       "      <td>1.029598</td>\n",
       "      <td>-0.744673</td>\n",
       "      <td>-0.252780</td>\n",
       "      <td>-1.081567</td>\n",
       "      <td>1.019189</td>\n",
       "      <td>-1.798665</td>\n",
       "      <td>0.900725</td>\n",
       "      <td>-0.301709</td>\n",
       "      <td>-0.470611</td>\n",
       "      <td>-1.092833</td>\n",
       "      <td>0.358153</td>\n",
       "      <td>-1.084776</td>\n",
       "    </tr>\n",
       "    <tr>\n",
       "      <th>110</th>\n",
       "      <td>-0.250819</td>\n",
       "      <td>-0.472123</td>\n",
       "      <td>1.185888</td>\n",
       "      <td>3.956008</td>\n",
       "      <td>0.416929</td>\n",
       "      <td>3.000996</td>\n",
       "      <td>0.913941</td>\n",
       "      <td>-0.782517</td>\n",
       "      <td>-0.530830</td>\n",
       "      <td>-0.036810</td>\n",
       "      <td>-1.744424</td>\n",
       "      <td>0.335251</td>\n",
       "      <td>-1.302994</td>\n",
       "    </tr>\n",
       "    <tr>\n",
       "      <th>196</th>\n",
       "      <td>-0.446478</td>\n",
       "      <td>-0.472123</td>\n",
       "      <td>0.375882</td>\n",
       "      <td>-0.252780</td>\n",
       "      <td>-1.046718</td>\n",
       "      <td>-0.197211</td>\n",
       "      <td>-1.773746</td>\n",
       "      <td>0.906286</td>\n",
       "      <td>-0.645390</td>\n",
       "      <td>-0.705098</td>\n",
       "      <td>-1.139375</td>\n",
       "      <td>0.432990</td>\n",
       "      <td>-0.557651</td>\n",
       "    </tr>\n",
       "    <tr>\n",
       "      <th>232</th>\n",
       "      <td>-0.453787</td>\n",
       "      <td>1.294608</td>\n",
       "      <td>-1.437328</td>\n",
       "      <td>-0.252780</td>\n",
       "      <td>-1.116415</td>\n",
       "      <td>0.958013</td>\n",
       "      <td>-1.200610</td>\n",
       "      <td>2.569156</td>\n",
       "      <td>-0.989070</td>\n",
       "      <td>-0.435438</td>\n",
       "      <td>0.582686</td>\n",
       "      <td>0.351444</td>\n",
       "      <td>-0.938825</td>\n",
       "    </tr>\n",
       "    <tr>\n",
       "      <th>17</th>\n",
       "      <td>-0.327544</td>\n",
       "      <td>-0.472123</td>\n",
       "      <td>-0.451297</td>\n",
       "      <td>-0.252780</td>\n",
       "      <td>-0.166787</td>\n",
       "      <td>-0.311027</td>\n",
       "      <td>0.732388</td>\n",
       "      <td>0.375840</td>\n",
       "      <td>-0.645390</td>\n",
       "      <td>-0.599579</td>\n",
       "      <td>1.187734</td>\n",
       "      <td>-0.614035</td>\n",
       "      <td>0.675139</td>\n",
       "    </tr>\n",
       "  </tbody>\n",
       "</table>\n",
       "</div>"
      ],
      "text/plain": [
       "         crim        zn     indus      chas       nox        rm       age  \\\n",
       "201 -0.444114  1.029598 -0.744673 -0.252780 -1.081567  1.019189 -1.798665   \n",
       "110 -0.250819 -0.472123  1.185888  3.956008  0.416929  3.000996  0.913941   \n",
       "196 -0.446478 -0.472123  0.375882 -0.252780 -1.046718 -0.197211 -1.773746   \n",
       "232 -0.453787  1.294608 -1.437328 -0.252780 -1.116415  0.958013 -1.200610   \n",
       "17  -0.327544 -0.472123 -0.451297 -0.252780 -0.166787 -0.311027  0.732388   \n",
       "\n",
       "          dis       rad       tax   ptratio     black     lstat  \n",
       "201  0.900725 -0.301709 -0.470611 -1.092833  0.358153 -1.084776  \n",
       "110 -0.782517 -0.530830 -0.036810 -1.744424  0.335251 -1.302994  \n",
       "196  0.906286 -0.645390 -0.705098 -1.139375  0.432990 -0.557651  \n",
       "232  2.569156 -0.989070 -0.435438  0.582686  0.351444 -0.938825  \n",
       "17   0.375840 -0.645390 -0.599579  1.187734 -0.614035  0.675139  "
      ]
     },
     "execution_count": 7,
     "metadata": {},
     "output_type": "execute_result"
    }
   ],
   "source": [
    "train = train_test_split(df_x_train, df_y, test_size=0.2)\n",
    "\n",
    "x_train = train[0]\n",
    "x_test = train[1]\n",
    "y_train = train[2]\n",
    "y_test = train[3]\n",
    "\n",
    "x_train.head()"
   ]
  },
  {
   "cell_type": "markdown",
   "metadata": {},
   "source": [
    "Перейдем к машинному обучению"
   ]
  },
  {
   "cell_type": "markdown",
   "metadata": {},
   "source": [
    "## Линейная регрессия:"
   ]
  },
  {
   "cell_type": "code",
   "execution_count": 8,
   "metadata": {},
   "outputs": [
    {
     "data": {
      "text/plain": [
       "LinearRegression(copy_X=True, fit_intercept=True, n_jobs=1, normalize=False)"
      ]
     },
     "execution_count": 8,
     "metadata": {},
     "output_type": "execute_result"
    }
   ],
   "source": [
    "linear = LinearRegression()\n",
    "linear.fit(x_train, y_train)"
   ]
  },
  {
   "cell_type": "code",
   "execution_count": 9,
   "metadata": {},
   "outputs": [
    {
     "name": "stdout",
     "output_type": "stream",
     "text": [
      "\n",
      "Линейная регрессия\n",
      "\n",
      "MSE — 12.925497147670379\n",
      "R2 — 0.7797977359563586\n",
      "MAE — 2.8578836945942356\n",
      "\n"
     ]
    }
   ],
   "source": [
    "print(\"\"\"\n",
    "Линейная регрессия\n",
    "\n",
    "MSE — {mse}\n",
    "R2 — {r2}\n",
    "MAE — {mae}\n",
    "\"\"\".format(\n",
    "    mse=mean_squared_error(y_test, linear.predict(x_test)),\n",
    "    r2 = r2_score(y_test, linear.predict(x_test)),\n",
    "    mae = mean_absolute_error(y_test, linear.predict(x_test))\n",
    "))"
   ]
  },
  {
   "cell_type": "markdown",
   "metadata": {},
   "source": [
    "## Опорные вектора:"
   ]
  },
  {
   "cell_type": "code",
   "execution_count": 10,
   "metadata": {},
   "outputs": [
    {
     "data": {
      "text/plain": [
       "SVR(C=1.0, cache_size=200, coef0=0.0, degree=3, epsilon=0.1, gamma='auto',\n",
       "  kernel='rbf', max_iter=-1, shrinking=True, tol=0.001, verbose=False)"
      ]
     },
     "execution_count": 10,
     "metadata": {},
     "output_type": "execute_result"
    }
   ],
   "source": [
    "svr = SVR()\n",
    "svr.fit(x_train, y_train)"
   ]
  },
  {
   "cell_type": "code",
   "execution_count": 11,
   "metadata": {},
   "outputs": [
    {
     "name": "stdout",
     "output_type": "stream",
     "text": [
      "\n",
      "Опорные вектора\n",
      "\n",
      "MSE — 14.095833009208967\n",
      "R2 — 0.7598595777982632\n",
      "MAE — 2.716747386418112\n",
      "\n"
     ]
    }
   ],
   "source": [
    "print(\"\"\"\n",
    "Опорные вектора\n",
    "\n",
    "MSE — {mse}\n",
    "R2 — {r2}\n",
    "MAE — {mae}\n",
    "\"\"\".format(\n",
    "    mse = mean_squared_error(y_test, svr.predict(x_test)),\n",
    "    r2 = r2_score(y_test, svr.predict(x_test)),\n",
    "    mae = mean_absolute_error(y_test, svr.predict(x_test))\n",
    "))"
   ]
  },
  {
   "cell_type": "markdown",
   "metadata": {},
   "source": [
    "## Деревья регрессии:"
   ]
  },
  {
   "cell_type": "code",
   "execution_count": 12,
   "metadata": {},
   "outputs": [
    {
     "data": {
      "text/plain": [
       "DecisionTreeRegressor(criterion='mse', max_depth=None, max_features=None,\n",
       "           max_leaf_nodes=None, min_impurity_decrease=0.0,\n",
       "           min_impurity_split=None, min_samples_leaf=1,\n",
       "           min_samples_split=2, min_weight_fraction_leaf=0.0,\n",
       "           presort=False, random_state=None, splitter='best')"
      ]
     },
     "execution_count": 12,
     "metadata": {},
     "output_type": "execute_result"
    }
   ],
   "source": [
    "regressor = DecisionTreeRegressor()\n",
    "regressor.fit(x_train, y_train)"
   ]
  },
  {
   "cell_type": "code",
   "execution_count": 13,
   "metadata": {},
   "outputs": [
    {
     "name": "stdout",
     "output_type": "stream",
     "text": [
      "\n",
      "Деревья регрессии\n",
      "\n",
      "MSE — 13.398059701492539\n",
      "R2 — 0.7717470325238303\n",
      "MAE — 2.753731343283582\n",
      "\n"
     ]
    }
   ],
   "source": [
    "print(\"\"\"\n",
    "Деревья регрессии\n",
    "\n",
    "MSE — {mse}\n",
    "R2 — {r2}\n",
    "MAE — {mae}\n",
    "\"\"\".format(\n",
    "    mse = mean_squared_error(y_test, regressor.predict(x_test)),\n",
    "    r2 = r2_score(y_test, regressor.predict(x_test)),\n",
    "    mae = mean_absolute_error(y_test, regressor.predict(x_test))\n",
    "))"
   ]
  },
  {
   "cell_type": "code",
   "execution_count": null,
   "metadata": {},
   "outputs": [],
   "source": []
  }
 ],
 "metadata": {
  "kernelspec": {
   "display_name": "Python 3",
   "language": "python",
   "name": "python3"
  },
  "language_info": {
   "codemirror_mode": {
    "name": "ipython",
    "version": 3
   },
   "file_extension": ".py",
   "mimetype": "text/x-python",
   "name": "python",
   "nbconvert_exporter": "python",
   "pygments_lexer": "ipython3",
   "version": "3.7.0"
  }
 },
 "nbformat": 4,
 "nbformat_minor": 2
}
