{
 "cells": [
  {
   "cell_type": "markdown",
   "metadata": {},
   "source": [
    "# Лабораторная работа"
   ]
  },
  {
   "cell_type": "code",
   "execution_count": 25,
   "metadata": {},
   "outputs": [],
   "source": [
    "import random\n",
    "import numpy as np\n",
    "import pandas as pd"
   ]
  },
  {
   "cell_type": "markdown",
   "metadata": {},
   "source": [
    "## Часть 1"
   ]
  },
  {
   "cell_type": "markdown",
   "metadata": {},
   "source": [
    "### Задание 1"
   ]
  },
  {
   "cell_type": "code",
   "execution_count": 10,
   "metadata": {},
   "outputs": [],
   "source": [
    "list_1 = [6, 12, 18, 7, 21, 9, 11, 10]"
   ]
  },
  {
   "cell_type": "code",
   "execution_count": 14,
   "metadata": {},
   "outputs": [
    {
     "data": {
      "text/plain": [
       "number    62\n",
       "dtype: int64"
      ]
     },
     "execution_count": 14,
     "metadata": {},
     "output_type": "execute_result"
    }
   ],
   "source": [
    "df1 = pd.DataFrame({'number': list_})\n",
    "df1[ df1.number > 10 ].sum()"
   ]
  },
  {
   "cell_type": "markdown",
   "metadata": {},
   "source": [
    "### Задание 2"
   ]
  },
  {
   "cell_type": "code",
   "execution_count": 34,
   "metadata": {},
   "outputs": [],
   "source": [
    "list_2 = 'Finally, when you cast a spell with a range of touch, your familiar can deliver the spell as if it had cast the spell. Your familiar must be within 100 feet of you, and it must use its reaction to deliver the spell when you cast it. If the spell requires an attack roll, you use your attack modifier for the roll'\n",
    "list_2 = list_2.replace(',','').replace('.','')\n",
    "list_2 = list_2.split()"
   ]
  },
  {
   "cell_type": "code",
   "execution_count": 35,
   "metadata": {},
   "outputs": [
    {
     "name": "stdout",
     "output_type": "stream",
     "text": [
      "your\n",
      "familiar\n",
      "deliver\n",
      "Your\n",
      "familiar\n",
      "deliver\n",
      "your\n",
      "modifier\n",
      "for\n"
     ]
    }
   ],
   "source": [
    "for word in list_2:\n",
    "    if word[-1] == 'r':\n",
    "        print(word)"
   ]
  },
  {
   "cell_type": "markdown",
   "metadata": {},
   "source": [
    "### Задание 3"
   ]
  },
  {
   "cell_type": "code",
   "execution_count": 32,
   "metadata": {},
   "outputs": [
    {
     "name": "stdout",
     "output_type": "stream",
     "text": [
      "830479\n"
     ]
    }
   ],
   "source": [
    "import random\n",
    "\n",
    "while 1:\n",
    "    str_3 = ''\n",
    "    for i in range(6):\n",
    "        str_3 += str(random.randint(0,9))\n",
    "    \n",
    "    if '3' in str_3:\n",
    "        print(str_3)\n",
    "        break"
   ]
  },
  {
   "cell_type": "markdown",
   "metadata": {},
   "source": [
    "### Задание 4"
   ]
  },
  {
   "cell_type": "code",
   "execution_count": 43,
   "metadata": {},
   "outputs": [
    {
     "data": {
      "text/plain": [
       "'When the familiar drops to 0 hit points it disappears leaving behind no physical form It reappears after you cast this spell again'"
      ]
     },
     "execution_count": 43,
     "metadata": {},
     "output_type": "execute_result"
    }
   ],
   "source": [
    "str_4 = 'When the familiar drops to 0 hit points, it disappears, leaving behind no physical form. It reappears after you cast this spell again.'\n",
    "str_4 = str_4.replace(',','').replace('.','')\n",
    "\n",
    "str_4"
   ]
  },
  {
   "cell_type": "code",
   "execution_count": 38,
   "metadata": {},
   "outputs": [
    {
     "name": "stdout",
     "output_type": "stream",
     "text": [
      "В этой строке 130 символов и 23 слова\n"
     ]
    }
   ],
   "source": [
    "lens = len(str_4)\n",
    "words = len(str_4.split())\n",
    "\n",
    "print('В этой строке {} символов и {} слова'.format(lens, words))"
   ]
  },
  {
   "cell_type": "markdown",
   "metadata": {},
   "source": [
    "## Часть 2"
   ]
  },
  {
   "cell_type": "markdown",
   "metadata": {},
   "source": [
    "### Задание 1"
   ]
  },
  {
   "cell_type": "code",
   "execution_count": 54,
   "metadata": {},
   "outputs": [
    {
     "data": {
      "text/plain": [
       "array([[56,  9, 96, 39, 85],\n",
       "       [97, 23, 49, 57, 68],\n",
       "       [ 6, 76,  6, 37, 14],\n",
       "       [25, 59, 72, 31, 59],\n",
       "       [44, 63,  1,  5, 39]])"
      ]
     },
     "execution_count": 54,
     "metadata": {},
     "output_type": "execute_result"
    }
   ],
   "source": [
    "N = 5\n",
    "matrix_5 = np.random.randint(0, 99, (N, N))\n",
    "\n",
    "matrix_5"
   ]
  },
  {
   "cell_type": "code",
   "execution_count": 55,
   "metadata": {},
   "outputs": [
    {
     "name": "stdout",
     "output_type": "stream",
     "text": [
      "[56, 9, 96, 39, 85, 97, 23, 49, 57, 68, 6, 76, 6, 37, 14, 25, 59, 72, 31, 59, 44, 63, 1, 5, 39]\n",
      "1116\n"
     ]
    }
   ],
   "source": [
    "print(list(matrix_5.flat))\n",
    "\n",
    "print(matrix_5.sum())"
   ]
  },
  {
   "cell_type": "markdown",
   "metadata": {},
   "source": [
    "### Задание 2"
   ]
  },
  {
   "cell_type": "code",
   "execution_count": 57,
   "metadata": {},
   "outputs": [
    {
     "data": {
      "text/plain": [
       "array([[94, 83, 35, 82, 87],\n",
       "       [81, 16, 90, 22, 38],\n",
       "       [96, 10, 86, 39, 13],\n",
       "       [23, 42, 13, 13, 60]])"
      ]
     },
     "execution_count": 57,
     "metadata": {},
     "output_type": "execute_result"
    }
   ],
   "source": [
    "N = 4\n",
    "M = 5\n",
    "matrix_6 = np.random.randint(0, 99, (N, M))\n",
    "\n",
    "matrix_6"
   ]
  },
  {
   "cell_type": "code",
   "execution_count": 68,
   "metadata": {},
   "outputs": [
    {
     "data": {
      "text/plain": [
       "294"
      ]
     },
     "execution_count": 68,
     "metadata": {},
     "output_type": "execute_result"
    }
   ],
   "source": [
    "list_6 = []\n",
    "for c in range( matrix_6.shape[1] ):\n",
    "    list_6.append( sum([row[c] for row in matrix_6]) )\n",
    "\n",
    "max(list_6)"
   ]
  },
  {
   "cell_type": "markdown",
   "metadata": {},
   "source": [
    "## Часть 3"
   ]
  },
  {
   "cell_type": "markdown",
   "metadata": {},
   "source": [
    "### Задание 1"
   ]
  },
  {
   "cell_type": "code",
   "execution_count": null,
   "metadata": {},
   "outputs": [],
   "source": []
  }
 ],
 "metadata": {
  "kernelspec": {
   "display_name": "Python 3",
   "language": "python",
   "name": "python3"
  },
  "language_info": {
   "codemirror_mode": {
    "name": "ipython",
    "version": 3
   },
   "file_extension": ".py",
   "mimetype": "text/x-python",
   "name": "python",
   "nbconvert_exporter": "python",
   "pygments_lexer": "ipython3",
   "version": "3.6.4"
  }
 },
 "nbformat": 4,
 "nbformat_minor": 2
}
