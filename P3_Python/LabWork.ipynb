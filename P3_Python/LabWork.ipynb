{
 "cells": [
  {
   "cell_type": "markdown",
   "metadata": {},
   "source": [
    "# Лабораторная работа"
   ]
  },
  {
   "cell_type": "code",
   "execution_count": 1,
   "metadata": {},
   "outputs": [],
   "source": [
    "import random\n",
    "import numpy as np\n",
    "import pandas as pd"
   ]
  },
  {
   "cell_type": "markdown",
   "metadata": {},
   "source": [
    "## Часть 1"
   ]
  },
  {
   "cell_type": "markdown",
   "metadata": {},
   "source": [
    "### Задание 1"
   ]
  },
  {
   "cell_type": "code",
   "execution_count": 2,
   "metadata": {},
   "outputs": [],
   "source": [
    "list_1 = [6, 12, 18, 7, 21, 9, 11, 10]"
   ]
  },
  {
   "cell_type": "code",
   "execution_count": 3,
   "metadata": {},
   "outputs": [
    {
     "data": {
      "text/plain": [
       "number    62\n",
       "dtype: int64"
      ]
     },
     "execution_count": 3,
     "metadata": {},
     "output_type": "execute_result"
    }
   ],
   "source": [
    "df = pd.DataFrame({'number': list_1})\n",
    "df[ df.number > 10 ].sum()"
   ]
  },
  {
   "cell_type": "markdown",
   "metadata": {},
   "source": [
    "### Задание 2"
   ]
  },
  {
   "cell_type": "code",
   "execution_count": 4,
   "metadata": {
    "scrolled": true
   },
   "outputs": [
    {
     "data": {
      "text/plain": [
       "['Finally', 'when', 'you', 'cast', 'a']"
      ]
     },
     "execution_count": 4,
     "metadata": {},
     "output_type": "execute_result"
    }
   ],
   "source": [
    "list_2 = 'Finally, when you cast a spell with a range of touch, your familiar can deliver the spell as if it had cast the spell. Your familiar must be within 100 feet of you, and it must use its reaction to deliver the spell when you cast it. If the spell requires an attack roll, you use your attack modifier for the roll'\n",
    "list_2 = list_2.replace(',','').replace('.','').split()\n",
    "\n",
    "list_2[0:5]"
   ]
  },
  {
   "cell_type": "code",
   "execution_count": 5,
   "metadata": {},
   "outputs": [
    {
     "name": "stdout",
     "output_type": "stream",
     "text": [
      "your\n",
      "familiar\n",
      "deliver\n",
      "Your\n",
      "familiar\n",
      "deliver\n",
      "your\n",
      "modifier\n",
      "for\n"
     ]
    }
   ],
   "source": [
    "for word in list_2:\n",
    "    if word[-1] == 'r':\n",
    "        print(word)"
   ]
  },
  {
   "cell_type": "markdown",
   "metadata": {},
   "source": [
    "### Задание 3"
   ]
  },
  {
   "cell_type": "code",
   "execution_count": 6,
   "metadata": {},
   "outputs": [
    {
     "name": "stdout",
     "output_type": "stream",
     "text": [
      "310532\n"
     ]
    }
   ],
   "source": [
    "while 1:\n",
    "    str_3 = ''\n",
    "    for i in range(6):\n",
    "        str_3 += str(random.randint(0,9))\n",
    "    \n",
    "    if '3' in str_3:\n",
    "        print(str_3)\n",
    "        break"
   ]
  },
  {
   "cell_type": "markdown",
   "metadata": {},
   "source": [
    "### Задание 4"
   ]
  },
  {
   "cell_type": "code",
   "execution_count": 7,
   "metadata": {},
   "outputs": [
    {
     "data": {
      "text/plain": [
       "'When the familiar drops to 0 hit points it disappears leaving behind no physical form It reappears after you cast this spell again'"
      ]
     },
     "execution_count": 7,
     "metadata": {},
     "output_type": "execute_result"
    }
   ],
   "source": [
    "str_4 = 'When the familiar drops to 0 hit points, it disappears, leaving behind no physical form. It reappears after you cast this spell again.'\n",
    "str_4 = str_4.replace(',','').replace('.','')\n",
    "\n",
    "str_4"
   ]
  },
  {
   "cell_type": "code",
   "execution_count": 8,
   "metadata": {},
   "outputs": [
    {
     "name": "stdout",
     "output_type": "stream",
     "text": [
      "В этой строке 130 символов и 23 слова\n"
     ]
    }
   ],
   "source": [
    "lens = len(str_4)\n",
    "words = len(str_4.split())\n",
    "\n",
    "print('В этой строке {} символов и {} слова'.format(lens, words))"
   ]
  },
  {
   "cell_type": "markdown",
   "metadata": {},
   "source": [
    "## Часть 2"
   ]
  },
  {
   "cell_type": "markdown",
   "metadata": {},
   "source": [
    "### Задание 1"
   ]
  },
  {
   "cell_type": "code",
   "execution_count": 9,
   "metadata": {},
   "outputs": [
    {
     "data": {
      "text/plain": [
       "array([[47,  4, 36,  7, 93],\n",
       "       [40, 84, 83, 20, 96],\n",
       "       [63, 24, 42, 69, 28],\n",
       "       [55, 71, 37, 32, 20],\n",
       "       [ 1, 78, 23, 85, 72]])"
      ]
     },
     "execution_count": 9,
     "metadata": {},
     "output_type": "execute_result"
    }
   ],
   "source": [
    "N = 5\n",
    "matrix_5 = np.random.randint(0, 99, (N, N))\n",
    "\n",
    "matrix_5"
   ]
  },
  {
   "cell_type": "code",
   "execution_count": 10,
   "metadata": {},
   "outputs": [
    {
     "name": "stdout",
     "output_type": "stream",
     "text": [
      "[47, 4, 36, 7, 93, 40, 84, 83, 20, 96, 63, 24, 42, 69, 28, 55, 71, 37, 32, 20, 1, 78, 23, 85, 72]\n",
      "1210\n"
     ]
    }
   ],
   "source": [
    "print(list(matrix_5.flat))\n",
    "\n",
    "print(matrix_5.sum())"
   ]
  },
  {
   "cell_type": "markdown",
   "metadata": {},
   "source": [
    "### Задание 2"
   ]
  },
  {
   "cell_type": "code",
   "execution_count": 11,
   "metadata": {},
   "outputs": [
    {
     "data": {
      "text/plain": [
       "array([[67, 36, 58, 20, 39],\n",
       "       [61, 62,  3, 77, 26],\n",
       "       [48, 31, 36,  0, 44],\n",
       "       [ 7, 46,  1, 24, 68]])"
      ]
     },
     "execution_count": 11,
     "metadata": {},
     "output_type": "execute_result"
    }
   ],
   "source": [
    "N = 4\n",
    "M = 5\n",
    "matrix_6 = np.random.randint(0, 99, (N, M))\n",
    "\n",
    "matrix_6"
   ]
  },
  {
   "cell_type": "code",
   "execution_count": 12,
   "metadata": {},
   "outputs": [
    {
     "data": {
      "text/plain": [
       "183"
      ]
     },
     "execution_count": 12,
     "metadata": {},
     "output_type": "execute_result"
    }
   ],
   "source": [
    "list_6 = []\n",
    "for c in range( matrix_6.shape[1] ):\n",
    "    list_6.append( sum([row[c] for row in matrix_6]) )\n",
    "\n",
    "max(list_6)"
   ]
  },
  {
   "cell_type": "markdown",
   "metadata": {},
   "source": [
    "## Часть 3"
   ]
  },
  {
   "cell_type": "markdown",
   "metadata": {},
   "source": [
    "### Задание 1"
   ]
  },
  {
   "cell_type": "code",
   "execution_count": 13,
   "metadata": {},
   "outputs": [],
   "source": [
    "list_7 = [[1, 'John Dorian', 22, 111], [2, 'Elliot Reid', 23, 112], [3, 'Christopher Turk', 21, 113]]"
   ]
  },
  {
   "cell_type": "code",
   "execution_count": 14,
   "metadata": {},
   "outputs": [
    {
     "data": {
      "text/plain": [
       "{1: ['John Dorian', 22, 111],\n",
       " 2: ['Elliot Reid', 23, 112],\n",
       " 3: ['Christopher Turk', 21, 113]}"
      ]
     },
     "execution_count": 14,
     "metadata": {},
     "output_type": "execute_result"
    }
   ],
   "source": [
    "dict_7 = {}\n",
    "\n",
    "for s in list_7:\n",
    "    dict_7[ s[0] ] = s[1:4]\n",
    "\n",
    "dict_7"
   ]
  },
  {
   "cell_type": "markdown",
   "metadata": {},
   "source": [
    "### Задание 2"
   ]
  },
  {
   "cell_type": "code",
   "execution_count": 15,
   "metadata": {},
   "outputs": [
    {
     "data": {
      "text/plain": [
       "{1: ['John Dorian', 22, 111],\n",
       " 2: ['Elliot Reid', 23, 112],\n",
       " 3: ['Christopher Turk', 21, 113]}"
      ]
     },
     "execution_count": 15,
     "metadata": {},
     "output_type": "execute_result"
    }
   ],
   "source": [
    "dict_8 = dict_7\n",
    "dict_8"
   ]
  },
  {
   "cell_type": "code",
   "execution_count": 16,
   "metadata": {},
   "outputs": [
    {
     "name": "stdout",
     "output_type": "stream",
     "text": [
      "Введите имя: John Dorian\n",
      "Группа студента: 111\n",
      "Введите новую группу: 113\n"
     ]
    },
    {
     "data": {
      "text/plain": [
       "{1: ['John Dorian', 22, 113],\n",
       " 2: ['Elliot Reid', 23, 112],\n",
       " 3: ['Christopher Turk', 21, 113]}"
      ]
     },
     "execution_count": 16,
     "metadata": {},
     "output_type": "execute_result"
    }
   ],
   "source": [
    "name = input('Введите имя: ')\n",
    "\n",
    "for k, v in dict_8.items():\n",
    "    if name in v:\n",
    "        key = k\n",
    "        group = v[2]\n",
    "\n",
    "new_group = input( 'Группа студента: {}\\nВведите новую группу: '.format(group) )\n",
    "\n",
    "dict_8[key][2] = int(new_group)\n",
    "\n",
    "dict_8"
   ]
  },
  {
   "cell_type": "markdown",
   "metadata": {},
   "source": [
    "### Задание 3"
   ]
  },
  {
   "cell_type": "code",
   "execution_count": 17,
   "metadata": {},
   "outputs": [
    {
     "data": {
      "text/plain": [
       "{1: ['John Dorian', 22, 113],\n",
       " 2: ['Elliot Reid', 23, 112],\n",
       " 3: ['Christopher Turk', 21, 113]}"
      ]
     },
     "execution_count": 17,
     "metadata": {},
     "output_type": "execute_result"
    }
   ],
   "source": [
    "dict_9 = dict_8\n",
    "dict_9"
   ]
  },
  {
   "cell_type": "code",
   "execution_count": 18,
   "metadata": {},
   "outputs": [
    {
     "name": "stdout",
     "output_type": "stream",
     "text": [
      "Введите имя: Christopher Turk\n",
      "Возраст студента: 21\n",
      "Введите новый возраст: 22\n"
     ]
    },
    {
     "data": {
      "text/plain": [
       "{1: ['John Dorian', 22, 113],\n",
       " 2: ['Elliot Reid', 23, 112],\n",
       " 3: ['Christopher Turk', 22, 113]}"
      ]
     },
     "execution_count": 18,
     "metadata": {},
     "output_type": "execute_result"
    }
   ],
   "source": [
    "name = input('Введите имя: ')\n",
    "\n",
    "for k, v in dict_9.items():\n",
    "    if name in v:\n",
    "        key = k\n",
    "        age = v[1]\n",
    "\n",
    "new_age = input( 'Возраст студента: {}\\nВведите новый возраст: '.format(age) )\n",
    "\n",
    "dict_9[key][1] = int(new_age)\n",
    "\n",
    "dict_9"
   ]
  },
  {
   "cell_type": "code",
   "execution_count": null,
   "metadata": {},
   "outputs": [],
   "source": []
  }
 ],
 "metadata": {
  "kernelspec": {
   "display_name": "Python 3",
   "language": "python",
   "name": "python3"
  },
  "language_info": {
   "codemirror_mode": {
    "name": "ipython",
    "version": 3
   },
   "file_extension": ".py",
   "mimetype": "text/x-python",
   "name": "python",
   "nbconvert_exporter": "python",
   "pygments_lexer": "ipython3",
   "version": "3.6.4"
  }
 },
 "nbformat": 4,
 "nbformat_minor": 2
}
