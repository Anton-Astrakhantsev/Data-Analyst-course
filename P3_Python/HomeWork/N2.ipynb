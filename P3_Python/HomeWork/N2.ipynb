{
 "cells": [
  {
   "cell_type": "markdown",
   "metadata": {},
   "source": [
    "### Задание 1"
   ]
  },
  {
   "cell_type": "code",
   "execution_count": 1,
   "metadata": {
    "scrolled": true
   },
   "outputs": [],
   "source": [
    "data = [\n",
    "    [13, 25, 23, 34],\n",
    "    [45, 32, 44, 47],\n",
    "    [12, 33, 23, 95],\n",
    "    [13, 53, 34, 35],\n",
    "]"
   ]
  },
  {
   "cell_type": "code",
   "execution_count": 2,
   "metadata": {
    "scrolled": true
   },
   "outputs": [],
   "source": [
    "def diagSum(file_):\n",
    "    \"\"\"\n",
    "    Функция возвращает сумму элементов диагонали матрицы\n",
    "    \"\"\"\n",
    "    s = 0\n",
    "    n = 0\n",
    "    for line in file_:\n",
    "        s += line[n]\n",
    "        n += 1\n",
    "    return s"
   ]
  },
  {
   "cell_type": "code",
   "execution_count": 3,
   "metadata": {
    "scrolled": true
   },
   "outputs": [
    {
     "data": {
      "text/plain": [
       "103"
      ]
     },
     "execution_count": 3,
     "metadata": {},
     "output_type": "execute_result"
    }
   ],
   "source": [
    "diagSum(data)"
   ]
  },
  {
   "cell_type": "markdown",
   "metadata": {},
   "source": [
    "### Задание 2"
   ]
  },
  {
   "cell_type": "code",
   "execution_count": 4,
   "metadata": {
    "scrolled": true
   },
   "outputs": [],
   "source": [
    "data = [1, '5', 'abc', 20, '2']"
   ]
  },
  {
   "cell_type": "code",
   "execution_count": 5,
   "metadata": {
    "scrolled": true
   },
   "outputs": [],
   "source": [
    "def sumSquare(file_):\n",
    "    \"\"\"\n",
    "    Функция возвращает сумму квадратов тех элементов списка, которых удалось представить в числа\n",
    "    \"\"\"\n",
    "    list_ = []\n",
    "    for f in file_:\n",
    "        try: list_.append( int(f)**2 )\n",
    "        except: continue\n",
    "    \n",
    "    return sum( list_ )"
   ]
  },
  {
   "cell_type": "code",
   "execution_count": 6,
   "metadata": {
    "scrolled": true
   },
   "outputs": [
    {
     "data": {
      "text/plain": [
       "430"
      ]
     },
     "execution_count": 6,
     "metadata": {},
     "output_type": "execute_result"
    }
   ],
   "source": [
    "sumSquare(data)"
   ]
  },
  {
   "cell_type": "markdown",
   "metadata": {},
   "source": [
    "### Задание 3"
   ]
  },
  {
   "cell_type": "code",
   "execution_count": 7,
   "metadata": {
    "scrolled": true
   },
   "outputs": [],
   "source": [
    "def getMaxExchange():\n",
    "    \"\"\"\n",
    "    Функция возвращает название валюты с максимальным на данный момент курсом\n",
    "    \"\"\"\n",
    "    import json\n",
    "    import urllib\n",
    "    \n",
    "    way =  'https://www.cbr-xml-daily.ru/daily_json.js'\n",
    "    with urllib.request.urlopen(way) as url:\n",
    "        dj = json.loads(url.read().decode())\n",
    "    \n",
    "    money_dict = {}\n",
    "    for v in dj['Valute'].values():\n",
    "        money_dict[ v['Name'] ] = v['Value']\n",
    "    \n",
    "    maxim_money = max(money_dict, key=money_dict.get)\n",
    "    \n",
    "    print('Валюта \"{}\" имеет курс {}'.format(maxim_money, money_dict[maxim_money]))\n",
    "    print('Максимальный среди других валют')"
   ]
  },
  {
   "cell_type": "code",
   "execution_count": 8,
   "metadata": {
    "scrolled": true
   },
   "outputs": [
    {
     "name": "stdout",
     "output_type": "stream",
     "text": [
      "Валюта \"Датских крон\" имеет курс 98.0785\n",
      "Максимальный среди других валют\n"
     ]
    }
   ],
   "source": [
    "getMaxExchange()"
   ]
  },
  {
   "cell_type": "markdown",
   "metadata": {},
   "source": [
    "### Задание 4"
   ]
  },
  {
   "cell_type": "code",
   "execution_count": 9,
   "metadata": {},
   "outputs": [],
   "source": [
    "import requests\n",
    "from exchange import Rate as OldRate"
   ]
  },
  {
   "cell_type": "code",
   "execution_count": 10,
   "metadata": {
    "scrolled": true
   },
   "outputs": [],
   "source": [
    "class Rate(OldRate):\n",
    "    def currency_info(self, currency):\n",
    "        \"\"\"\n",
    "        Возвращает всю информацию о валюте currency независимо от format\n",
    "        \"\"\"\n",
    "        return self.exchange_rates()[currency]\n",
    "    \n",
    "    def currency_name(self, currency):\n",
    "        \"\"\"\n",
    "        Возвращает полное название валюты currency\n",
    "        \"\"\"\n",
    "        return self.currency_info(currency)['Name']\n",
    "    \n",
    "    diff = True\n",
    "    \n",
    "    def make_format(self, currency):\n",
    "        if self.diff:\n",
    "            return self.currency_info(currency)['Value'] - self.currency_info(currency)['Previous']\n",
    "        else:\n",
    "            return OldRate.make_format(self, currency)\n"
   ]
  },
  {
   "cell_type": "code",
   "execution_count": 11,
   "metadata": {
    "scrolled": true
   },
   "outputs": [
    {
     "data": {
      "text/plain": [
       "0.17130000000000223"
      ]
     },
     "execution_count": 11,
     "metadata": {},
     "output_type": "execute_result"
    }
   ],
   "source": [
    "curr = Rate()\n",
    "curr.usd()"
   ]
  },
  {
   "cell_type": "markdown",
   "metadata": {},
   "source": [
    "### Задание 5"
   ]
  },
  {
   "cell_type": "code",
   "execution_count": 12,
   "metadata": {
    "scrolled": true
   },
   "outputs": [],
   "source": [
    "def getFibonacciSum(n):\n",
    "    \"\"\"\n",
    "    Функция возвращает сумму первых n чисел Фибоначчи\n",
    "    \"\"\"\n",
    "    if n == 0: return 0\n",
    "    if n == 1: return 1\n",
    "    \n",
    "    f_list = [0, 1]\n",
    "    for i in range(n-2):\n",
    "        f_list.append( f_list[ len(f_list) -1 ] + f_list[ len(f_list) -2 ] )\n",
    "    \n",
    "    return sum(f_list)"
   ]
  },
  {
   "cell_type": "code",
   "execution_count": 13,
   "metadata": {
    "scrolled": true
   },
   "outputs": [
    {
     "name": "stdout",
     "output_type": "stream",
     "text": [
      "Введите количество первых чисел Фибоначчи: 8\n"
     ]
    },
    {
     "data": {
      "text/plain": [
       "33"
      ]
     },
     "execution_count": 13,
     "metadata": {},
     "output_type": "execute_result"
    }
   ],
   "source": [
    "n = int(input('Введите количество первых чисел Фибоначчи: '))\n",
    "\n",
    "getFibonacciSum(8)"
   ]
  },
  {
   "cell_type": "markdown",
   "metadata": {},
   "source": [
    "### Задание 6"
   ]
  },
  {
   "cell_type": "code",
   "execution_count": 14,
   "metadata": {
    "scrolled": true
   },
   "outputs": [],
   "source": [
    "def getInsertedDict(ex):\n",
    "    \"\"\"\n",
    "    Функция преобразует список во вложенные словари\n",
    "    \"\"\"\n",
    "    nex = ex[::-1]\n",
    "    val = nex[0]\n",
    "    \n",
    "    for i in range(len(nex)-1):\n",
    "        val = dict.fromkeys( [nex[i+1]], val )\n",
    "    \n",
    "    return val"
   ]
  },
  {
   "cell_type": "code",
   "execution_count": 15,
   "metadata": {
    "scrolled": true
   },
   "outputs": [
    {
     "data": {
      "text/plain": [
       "{'2018-01-01': {'yandex': {'cpc': 100}}}"
      ]
     },
     "execution_count": 15,
     "metadata": {},
     "output_type": "execute_result"
    }
   ],
   "source": [
    "example = ['2018-01-01', 'yandex', 'cpc', 100]\n",
    "\n",
    "getInsertedDict(example)"
   ]
  },
  {
   "cell_type": "code",
   "execution_count": null,
   "metadata": {
    "scrolled": true
   },
   "outputs": [],
   "source": []
  }
 ],
 "metadata": {
  "kernelspec": {
   "display_name": "Python 3",
   "language": "python",
   "name": "python3"
  },
  "language_info": {
   "codemirror_mode": {
    "name": "ipython",
    "version": 3
   },
   "file_extension": ".py",
   "mimetype": "text/x-python",
   "name": "python",
   "nbconvert_exporter": "python",
   "pygments_lexer": "ipython3",
   "version": "3.7.0"
  }
 },
 "nbformat": 4,
 "nbformat_minor": 2
}
