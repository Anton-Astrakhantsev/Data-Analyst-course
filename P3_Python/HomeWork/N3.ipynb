{
 "cells": [
  {
   "cell_type": "code",
   "execution_count": 1,
   "metadata": {},
   "outputs": [],
   "source": [
    "from datetime import date\n",
    "from datetime import datetime as dt\n",
    "from datetime import timedelta as td"
   ]
  },
  {
   "cell_type": "markdown",
   "metadata": {},
   "source": [
    "### Задание 1"
   ]
  },
  {
   "cell_type": "code",
   "execution_count": 2,
   "metadata": {},
   "outputs": [],
   "source": [
    "def date_range(start_data, end_data):\n",
    "    \"\"\"\n",
    "    Функция возвращает список дней между датами\n",
    "    \"\"\"\n",
    "    sd = dt.strptime(start_data, '%Y-%m-%d')\n",
    "    ed = dt.strptime(end_data, '%Y-%m-%d')\n",
    "    \n",
    "    delta = ed - sd\n",
    "    \n",
    "    days_list = []\n",
    "    for d in range(1, delta.days):\n",
    "        days_list.append(\n",
    "            dt.strftime( sd + td(days=d), '%Y-%m-%d' )\n",
    "        )\n",
    "    \n",
    "    return days_list"
   ]
  },
  {
   "cell_type": "code",
   "execution_count": 3,
   "metadata": {},
   "outputs": [
    {
     "data": {
      "text/plain": [
       "['2019-01-02',\n",
       " '2019-01-03',\n",
       " '2019-01-04',\n",
       " '2019-01-05',\n",
       " '2019-01-06',\n",
       " '2019-01-07',\n",
       " '2019-01-08',\n",
       " '2019-01-09',\n",
       " '2019-01-10',\n",
       " '2019-01-11']"
      ]
     },
     "execution_count": 3,
     "metadata": {},
     "output_type": "execute_result"
    }
   ],
   "source": [
    "date_range('2019-01-01', '2019-01-12')"
   ]
  },
  {
   "cell_type": "markdown",
   "metadata": {},
   "source": [
    "### Задание 2"
   ]
  },
  {
   "cell_type": "code",
   "execution_count": 4,
   "metadata": {},
   "outputs": [],
   "source": [
    "def date_range(start_data, end_data):\n",
    "    \"\"\"\n",
    "    Функция возвращает список дней между датами\n",
    "    \"\"\"\n",
    "    try:\n",
    "        sd = dt.strptime(start_data, '%Y-%m-%d')\n",
    "        ed = dt.strptime(end_data, '%Y-%m-%d')\n",
    "    \n",
    "    except:\n",
    "        return []\n",
    "    \n",
    "    if start_data > end_data:\n",
    "        return []\n",
    "    \n",
    "    delta = ed - sd\n",
    "    \n",
    "    days_list = []\n",
    "    for d in range(1, delta.days):\n",
    "        days_list.append(\n",
    "            dt.strftime( sd + td(days=d), '%Y-%m-%d' )\n",
    "        )\n",
    "    \n",
    "    return days_list"
   ]
  },
  {
   "cell_type": "code",
   "execution_count": 5,
   "metadata": {},
   "outputs": [
    {
     "data": {
      "text/plain": [
       "[]"
      ]
     },
     "execution_count": 5,
     "metadata": {},
     "output_type": "execute_result"
    }
   ],
   "source": [
    "date_range('2019-12-01', '2019-01-12')"
   ]
  },
  {
   "cell_type": "markdown",
   "metadata": {},
   "source": [
    "### Задание 3"
   ]
  },
  {
   "cell_type": "code",
   "execution_count": 6,
   "metadata": {},
   "outputs": [],
   "source": [
    "stream = ['2018-04-02', '2018-02-29', '2018-19-02']"
   ]
  },
  {
   "cell_type": "code",
   "execution_count": 7,
   "metadata": {},
   "outputs": [],
   "source": [
    "def DatesValidation(dates):\n",
    "    \"\"\"\n",
    "    Функция проверяет даты на корректность\n",
    "    \"\"\"\n",
    "    def try_bool(d):\n",
    "        try: return bool( dt.strptime(d, '%Y-%m-%d') )\n",
    "        except: return False\n",
    "    \n",
    "    valid_dates = list(map(try_bool,dates))\n",
    "    \n",
    "    return valid_dates"
   ]
  },
  {
   "cell_type": "code",
   "execution_count": 8,
   "metadata": {},
   "outputs": [
    {
     "data": {
      "text/plain": [
       "[True, False, False]"
      ]
     },
     "execution_count": 8,
     "metadata": {},
     "output_type": "execute_result"
    }
   ],
   "source": [
    "DatesValidation(stream)"
   ]
  },
  {
   "cell_type": "markdown",
   "metadata": {},
   "source": [
    "### Задание 4"
   ]
  },
  {
   "cell_type": "code",
   "execution_count": 9,
   "metadata": {},
   "outputs": [],
   "source": [
    "def MonthPassDays():\n",
    "    \"\"\"\n",
    "    Функция возвращает список дат с 1 по вчерашний день текущего месяца\n",
    "    \"\"\"\n",
    "    yesterday = dt.today().date() - td(days=1)\n",
    "    if yesterday.day == 1:\n",
    "        yesterday -= td(days=1)\n",
    "    \n",
    "    days_list = []\n",
    "    \n",
    "    day = date( yesterday.year, yesterday.month, 1 )\n",
    "    while day <= yesterday:\n",
    "        days_list.append( dt.strftime(day, '%Y-%m-%d') )\n",
    "        day += td(days=1)\n",
    "    \n",
    "    return days_list"
   ]
  },
  {
   "cell_type": "code",
   "execution_count": 10,
   "metadata": {},
   "outputs": [
    {
     "data": {
      "text/plain": [
       "['2019-06-01',\n",
       " '2019-06-02',\n",
       " '2019-06-03',\n",
       " '2019-06-04',\n",
       " '2019-06-05',\n",
       " '2019-06-06',\n",
       " '2019-06-07',\n",
       " '2019-06-08',\n",
       " '2019-06-09',\n",
       " '2019-06-10',\n",
       " '2019-06-11',\n",
       " '2019-06-12',\n",
       " '2019-06-13',\n",
       " '2019-06-14',\n",
       " '2019-06-15',\n",
       " '2019-06-16',\n",
       " '2019-06-17',\n",
       " '2019-06-18',\n",
       " '2019-06-19',\n",
       " '2019-06-20',\n",
       " '2019-06-21',\n",
       " '2019-06-22',\n",
       " '2019-06-23']"
      ]
     },
     "execution_count": 10,
     "metadata": {},
     "output_type": "execute_result"
    }
   ],
   "source": [
    "MonthPassDays()"
   ]
  },
  {
   "cell_type": "code",
   "execution_count": null,
   "metadata": {},
   "outputs": [],
   "source": []
  }
 ],
 "metadata": {
  "kernelspec": {
   "display_name": "Python 3",
   "language": "python",
   "name": "python3"
  },
  "language_info": {
   "codemirror_mode": {
    "name": "ipython",
    "version": 3
   },
   "file_extension": ".py",
   "mimetype": "text/x-python",
   "name": "python",
   "nbconvert_exporter": "python",
   "pygments_lexer": "ipython3",
   "version": "3.7.0"
  }
 },
 "nbformat": 4,
 "nbformat_minor": 2
}
