{
 "cells": [
  {
   "cell_type": "markdown",
   "metadata": {},
   "source": [
    "### Задание 1 "
   ]
  },
  {
   "cell_type": "code",
   "execution_count": 1,
   "metadata": {
    "scrolled": true
   },
   "outputs": [],
   "source": [
    "long_phrase = 'Насколько проще было бы писать программы, если бы не заказчики'\n",
    "short_phrase = '640Кб должно хватить для любых задач. Билл Гейтс (по легенде)'"
   ]
  },
  {
   "cell_type": "code",
   "execution_count": 2,
   "metadata": {
    "scrolled": true
   },
   "outputs": [
    {
     "name": "stdout",
     "output_type": "stream",
     "text": [
      "True\n"
     ]
    }
   ],
   "source": [
    "print(long_phrase > short_phrase)"
   ]
  },
  {
   "cell_type": "markdown",
   "metadata": {},
   "source": [
    "### Задание 2"
   ]
  },
  {
   "cell_type": "code",
   "execution_count": 3,
   "metadata": {
    "scrolled": true
   },
   "outputs": [],
   "source": [
    "text = 'Если программист в 9-00 утра на работе, значит, он там и ночевал'"
   ]
  },
  {
   "cell_type": "code",
   "execution_count": 4,
   "metadata": {
    "scrolled": true
   },
   "outputs": [
    {
     "name": "stdout",
     "output_type": "stream",
     "text": [
      "Буква \"а\" встречается чаще\n"
     ]
    }
   ],
   "source": [
    "if text.count('а') > text.count('и'):\n",
    "    w = 'а'\n",
    "elif text.count('а') < text.count('и'):\n",
    "    w = 'и'\n",
    "else:\n",
    "    print('Буквы \"а\" и \"и\" встречаются одинаково часто')\n",
    "    w = 0\n",
    "\n",
    "if w != 0: print('Буква \"{}\" встречается чаще'.format(w))"
   ]
  },
  {
   "cell_type": "markdown",
   "metadata": {},
   "source": [
    "### Задание 3"
   ]
  },
  {
   "cell_type": "code",
   "execution_count": 5,
   "metadata": {
    "scrolled": true
   },
   "outputs": [
    {
     "name": "stdout",
     "output_type": "stream",
     "text": [
      "Введите размер файла в байтах: 1136100639\n",
      "Объем файла равен 1083.47Mb\n"
     ]
    }
   ],
   "source": [
    "size = int(input('Введите размер файла в байтах: '))\n",
    "#size = 1136100639\n",
    "\n",
    "print('Объем файла равен {}Mb'.format(round(size/1024/1024,2)))"
   ]
  },
  {
   "cell_type": "markdown",
   "metadata": {},
   "source": [
    "### Задание 4"
   ]
  },
  {
   "cell_type": "code",
   "execution_count": 6,
   "metadata": {
    "scrolled": true
   },
   "outputs": [],
   "source": [
    "angle = 30"
   ]
  },
  {
   "cell_type": "code",
   "execution_count": 7,
   "metadata": {
    "scrolled": false
   },
   "outputs": [
    {
     "data": {
      "text/plain": [
       "0.49999999999999994"
      ]
     },
     "execution_count": 7,
     "metadata": {},
     "output_type": "execute_result"
    }
   ],
   "source": [
    "import math\n",
    "\n",
    "rad = (math.pi/180)*angle\n",
    "\n",
    "math.sin(rad)"
   ]
  },
  {
   "cell_type": "markdown",
   "metadata": {},
   "source": [
    "### Задание 5"
   ]
  },
  {
   "cell_type": "code",
   "execution_count": 8,
   "metadata": {
    "scrolled": true
   },
   "outputs": [
    {
     "name": "stdout",
     "output_type": "stream",
     "text": [
      "0.30000000000000004\n",
      "У меня есть два объяснения на этот счет\n",
      "\n",
      "Первое, высчитывание операций с нецелыми числами является уравнениями, которые компьютер высчитывает вручную\n",
      "Высчитывает он их с определенной точностью, и все, что за этой точностью его не волнует\n",
      "Поэтому к вычислениям може попасть некоторые неточности, которые компьютер не считает значимыми\n",
      "\n",
      "Второе, мы используем десятичную систему исчиления, вто время как в компьютер использует двоичную\n",
      "Десятичные дроби являются продуктами деления на 10, но для двоичной системы исчесления это создает помехи\n",
      "По аналогии с делением на 3 в десятеричной, которое тоже может деть не конечную десятичную дробь\n",
      "Об этом есть интересная статья на Хабре — https://habr.com/ru/post/219595/\n"
     ]
    }
   ],
   "source": [
    "print(0.1 + 0.2)\n",
    "print('У меня есть два объяснения на этот счет\\n')\n",
    "print('Первое, высчитывание операций с нецелыми числами является уравнениями, которые компьютер высчитывает вручную')\n",
    "print('Высчитывает он их с определенной точностью, и все, что за этой точностью его не волнует')\n",
    "print('Поэтому к вычислениям може попасть некоторые неточности, которые компьютер не считает значимыми\\n')\n",
    "print('Второе, мы используем десятичную систему исчиления, вто время как в компьютер использует двоичную')\n",
    "print('Десятичные дроби являются продуктами деления на 10, но для двоичной системы исчесления это создает помехи')\n",
    "print('По аналогии с делением на 3 в десятеричной, которое тоже может деть не конечную десятичную дробь')\n",
    "print('Об этом есть интересная статья на Хабре — https://habr.com/ru/post/219595/')"
   ]
  },
  {
   "cell_type": "markdown",
   "metadata": {},
   "source": [
    "### Задание посложнее 1"
   ]
  },
  {
   "cell_type": "code",
   "execution_count": 9,
   "metadata": {
    "scrolled": true
   },
   "outputs": [],
   "source": [
    "a = 10\n",
    "b = 11"
   ]
  },
  {
   "cell_type": "code",
   "execution_count": 10,
   "metadata": {
    "scrolled": true
   },
   "outputs": [
    {
     "name": "stdout",
     "output_type": "stream",
     "text": [
      "a = 11, b = 10\n"
     ]
    }
   ],
   "source": [
    "a = str(a) + '_' + str(b)\n",
    "b = a.split('_')[0]\n",
    "a = a.split('_')[1]\n",
    "\n",
    "print('a = {}, b = {}'.format(a,b))"
   ]
  },
  {
   "cell_type": "markdown",
   "metadata": {},
   "source": [
    "### Задание посложнее 2"
   ]
  },
  {
   "cell_type": "code",
   "execution_count": 11,
   "metadata": {
    "scrolled": true
   },
   "outputs": [],
   "source": [
    "num=10011"
   ]
  },
  {
   "cell_type": "code",
   "execution_count": 12,
   "metadata": {
    "scrolled": true
   },
   "outputs": [
    {
     "name": "stdout",
     "output_type": "stream",
     "text": [
      "19\n"
     ]
    }
   ],
   "source": [
    "new_num =str(num)[::-1]\n",
    "s = 0\n",
    "\n",
    "for n in range(len(new_num)):\n",
    "    s += int(new_num[n]) * 2**n\n",
    "\n",
    "print(s)"
   ]
  },
  {
   "cell_type": "code",
   "execution_count": null,
   "metadata": {
    "scrolled": true
   },
   "outputs": [],
   "source": []
  }
 ],
 "metadata": {
  "kernelspec": {
   "display_name": "Python 3",
   "language": "python",
   "name": "python3"
  },
  "language_info": {
   "codemirror_mode": {
    "name": "ipython",
    "version": 3
   },
   "file_extension": ".py",
   "mimetype": "text/x-python",
   "name": "python",
   "nbconvert_exporter": "python",
   "pygments_lexer": "ipython3",
   "version": "3.6.4"
  }
 },
 "nbformat": 4,
 "nbformat_minor": 2
}
